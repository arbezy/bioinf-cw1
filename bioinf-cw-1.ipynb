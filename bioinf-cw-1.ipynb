{
 "cells": [
  {
   "cell_type": "markdown",
   "metadata": {},
   "source": [
    "Part One - Retreiving and Analysing mRNA and Protein Sequences of Human Cadherin-7 (25 marks)\n",
    "\n",
    "\n",
    "- Task 1 - Search NCBI for the human Cadherin-7 gene entry, how many alternate transcripts does it have, what are their official accession ids, and how long are they in nucleotides (5 marks)\n",
    "\n",
    "- Task 2 - Calculate the percentage composition of A, C, G, and T for each transcript and report the results in a table with the transcripts as rows and the percentages for each nucleotide as columns (5 marks)\n",
    "\n",
    "- Task 3 - Translate the transcript sequences into protein sequences, report the length of the resulting proteins and state the most frequent amino acid in each one, if there are joint frequent ones name them all (5 marks)\n",
    "\n",
    "\n",
    "- up to 6 marks for including one additional piece of analysis.\n",
    "\n",
    "- up to 4 marks for exceptionally well organised and executed approach.\n",
    "\n",
    "\n",
    "Possible extensions here might be to:\n",
    "\n",
    "- look at other human Cadherin genes to see whether they also use alternate splicing to create different isoforms\n",
    "\n",
    "- compare human Cadherin-7 to orthologs in other species\n",
    "\n",
    "- write a short summary of what Cadherins do\n",
    "\n",
    "- look at the structure of the Cadherin protein family\n",
    "\n",
    "- comment on the difference in structure between the different Cadherin-7 isoforms"
   ]
  },
  {
   "cell_type": "markdown",
   "metadata": {},
   "source": [
    "# Task 1\n",
    "\n",
    "not gonna write code for this one I don't think!\n",
    "\n",
    "Searching up \"Homo Sapiens Cadherin-7\" in Genes database, clicking through to \"NCBI reference sequences\" then tryed the new \"Transcript table\" which was super clear and helpful as it already included the length in nucleotides!\n",
    "\n",
    "4 alternate transcripts (accession number : length (nt)):\n",
    "- NM_004361.5 : 12136\n",
    "- NM_033646.4 : 12126\n",
    "- NM_001317214.3 : 3407\n",
    "- NM_001262438.2 : 12938"
   ]
  },
  {
   "cell_type": "code",
   "execution_count": null,
   "metadata": {},
   "outputs": [],
   "source": [
    "# TASK 2\n",
    "\n"
   ]
  }
 ],
 "metadata": {
  "kernelspec": {
   "display_name": "Python 3",
   "language": "python",
   "name": "python3"
  },
  "language_info": {
   "codemirror_mode": {
    "name": "ipython",
    "version": 3
   },
   "file_extension": ".py",
   "mimetype": "text/x-python",
   "name": "python",
   "nbconvert_exporter": "python",
   "pygments_lexer": "ipython3",
   "version": "3.9.13"
  },
  "orig_nbformat": 4
 },
 "nbformat": 4,
 "nbformat_minor": 2
}
